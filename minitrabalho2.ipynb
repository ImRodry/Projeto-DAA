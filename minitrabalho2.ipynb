{
 "cells": [
  {
   "cell_type": "markdown",
   "metadata": {},
   "source": [
    "# Minitrabalho de DAA\n",
    "Trabalho realizado por:\n",
    "- Gonçalo Ribeiro, nº 110730\n",
    "- Rodrigo Leitão, nº 111008"
   ]
  },
  {
   "cell_type": "markdown",
   "metadata": {},
   "source": [
    "## **1)** Representação dos dados\n",
    "\n",
    "A tarefa inicial consiste em ler e carregar os dados numa estrutura de dados adequada. Isto implica, essencialmente, em concetualizar a relação ator-filme como um grafo.\n",
    "\n",
    "Para a sua implementação, deverá usar como base a classe Graph/Digraph fornecida nos exercícios da Semana 7, ou deve implementar a sua classe Graph de raiz. Não é permitida a utilização de outros módulos Python para a representação de grafos.\n",
    "\n",
    "Com base no conjunto de operações que devem ser suportadas pela sua aplicação (apresentadas na Secção 2), descreva nesta secção os detalhes da estrutura de dados escolhida e o tipo de grafo resultante da sua interpretação do problema. Note que não existe apenas uma \"única\" representação possível, mas algumas representações podem ser mais/menos eficientes e mais fáceis/difíceis de programar. Você, como desenvolvedor, deve analisar qual será a melhor solução para o problema, mantê-la consistente e fazê-la funcionar.\n",
    "\n",
    "#### **1.a)** [2 valores] Descreva o modelo de grafo que utilizou para concetualizar a relação ator-filme do problema proposto. Liste quais foram os critérios que levaram à sua decisão e as possíveis vantagens e desvantagens da representação usada.\n",
    "\n",
    "**Nota:** São listadas abaixo algumas perguntas que devem estar claras na sua resposta:\n",
    "- O que são os vértices e as arestas no seu modelo de grafo. Qual foi o critério para esta escolha? Por exemplo, a sua escolha facilita a implementação de alguma operação específica? Ou faz\n",
    "com que as operações fiquem mais eficientes (em relação ao tempo e ao espaço em memória)?\n",
    "- A sua representação do problema resulta em que tipo de grafo (não orientado, orientado, pesado, com multiarestas, acíclico, cíclico, bipartido, etc)?\n",
    "- Que tipo de modificações teve de realizar na classe `Graph` fornecida (teve de inserir novos atributos/métodos e porquê?); ou como implementou a sua classe `Graph`?\n"
   ]
  },
  {
   "cell_type": "code",
   "execution_count": 1,
   "metadata": {},
   "outputs": [],
   "source": [
    "class Vertex:\n",
    "    ''' Estrutura de Vértice para um grafo: encapsula um elemento (vertex_id) \n",
    "        que é o identificador deste nó.\n",
    "        \n",
    "        O elemento (vertex_id) deve ser hashable:  \n",
    "        - Um objeto hashable é aquele que pode ser utilizado como uma chave num dicionário Python.\n",
    "        - Isto inclui strings, números, tuplas, etc.\n",
    "    '''\n",
    "\n",
    "    def __init__(self, vertex_id):\n",
    "        '''O vértice será inserido no Grafo usando o método insert_vertex(x) que cria um Vertex'''\n",
    "        self._vertex_id = vertex_id   # Id do vértice (elemento a inserir no grafo)\n",
    "\n",
    "    def __hash__(self):\n",
    "        '''O valor do elemento é usado como hash para o vértice (o elemento deve ser hashable)'''\n",
    "        return hash(self._vertex_id)  # devolve o hash do elemento\n",
    "\n",
    "    def __str__(self):\n",
    "        '''Devolve a representação do objeto vértice em string.'''\n",
    "        return'v{0}'.format(self._vertex_id)\n",
    "\n",
    "    def __eq__(self, vertex):\n",
    "        return self._vertex_id == vertex._vertex_id # Deve-se garantir que: se hash(vertex)==hash(self), entao vertex==self\n",
    "\n",
    "    def __lt__(self, vertex):\n",
    "        return self._vertex_id < vertex._vertex_id\n",
    "\n",
    "    def __le__(self, vertex):\n",
    "        return self._vertex_id <= vertex._vertex_id\n",
    "\n",
    "    def __gt__(self, vertex):\n",
    "        return self._vertex_id > vertex._vertex_id\n",
    "\n",
    "    def __ge__(self, vertex):\n",
    "        return self._vertex_id >= vertex._vertex_id\n",
    "\n",
    "    def vertex_id(self):\n",
    "        ''' Devolve o elemento guardado neste vértice.'''\n",
    "        return self._vertex_id\n",
    "\n",
    "class Edge:\n",
    "    ''' Estrutura de Aresta para um Grafo: (origem, destino, nomes).'''\n",
    "\n",
    "    def __init__(self, vertex_1, vertex_2, names):\n",
    "        self._vertex_1: Vertex = vertex_1\n",
    "        self._vertex_2: Vertex = vertex_2\n",
    "        self._names: list[str] = names\n",
    "\n",
    "    def __hash__(self):\n",
    "        # Função que mapeia a aresta a uma posição no dicionário (hash map)\n",
    "        return hash( (self._vertex_1, self._vertex_2) )\n",
    "\n",
    "    def __str__(self):\n",
    "        ''' Devolve a representação do objeto aresta em string: (origem, destino)w=peso '''\n",
    "        return'e({0};{1})names={2}'.format(self._vertex_1, self._vertex_2, \", \".join(self._names))\n",
    "\n",
    "    def __eq__(self, other) -> bool:\n",
    "        # define igualdade de duas arestas (deve ser consistente com a função hash)\n",
    "        return self._vertex_1 == other._vertex_1 and self._vertex_2 == other._vertex_2\n",
    "\n",
    "    def get_names(self):\n",
    "        ''' Devolve o nome do filme que liga os dois vértices.'''\n",
    "        return self._names\n",
    "    \n",
    "    def endpoints(self):\n",
    "        ''' Devolve a tupla (vertex_1, vertex_2) os vértices adjacentes vertex_1 e vertex_2.'''\n",
    "        return (self._vertex_1, self._vertex_2)\n",
    "    \n",
    "    def opposite(self, vertex):\n",
    "        ''' Indica o vértice oposto ao vertex nesta aresta \n",
    "            (apenas se vertex fizer parte da aresta).'''\n",
    "        if vertex == self._vertex_1:\n",
    "            return self._vertex_2\n",
    "        elif vertex == self._vertex_2:\n",
    "            return self._vertex_1\n",
    "        else:\n",
    "            return None\n",
    "\n",
    "class Graph:\n",
    "    '''\n",
    "    Representação de um grafo usando dicionários encadeados (nested dictionaries).\n",
    "    \n",
    "    Atributos:\n",
    "    ----------\n",
    "    adjancencies: Dicionário externo que associa um vértice (Vertex) a um  \n",
    "                  mapa de adjacências (dicionario interno)\n",
    "    vertices: Dicionário auxiliar que associa o id dos vértices do grafo\n",
    "              a um objeto Vertex (tabela de símbolos).\n",
    "    single_actor_movies: Dicionário que associa o nome de um filme a um ator\n",
    "    n: Número de vértices no Grafo\n",
    "    m: Número de arestas no Grafo\n",
    "    \n",
    "    ----------\n",
    "    '''\n",
    "    def __init__(self):\n",
    "        '''Construtor: Cria um grafo vazio (dicionário de _adjancencies).'''\n",
    "        self._adjancencies: dict[Vertex, dict[Vertex, Edge]] = {}   # dicionário que associa o par chave-valor: <Vertex v, Mapa de adjacências de v>\n",
    "        self._vertices: dict[str, Vertex] = {}                      # dicionário que associa o par: <id do vértice, objeto Vertex correspondente>\n",
    "        self._single_actor_movies: dict[str, Vertex] = {}           # conjunto de filmes com apenas um ator\n",
    "        self._n = 0                                                 # número de vértices do grafo\n",
    "        self._m = 0                                                 # número de arestas do grafo\n",
    "    \n",
    "    def __str__(self):\n",
    "        '''Devolve a representação do grafo em string (toString)'''\n",
    "        if self._n == 0:\n",
    "            ret = \"DAA-Graph: <empty>\\n\"\n",
    "        else:\n",
    "            ret = \"DAA-Graph:\\n\"\n",
    "            for vertex in self._adjancencies.keys():\n",
    "                #ret += \"vertex-\"\n",
    "                ret += str(vertex) + \": \"\n",
    "                for edge in self.incident_edges(vertex.vertex_id()):\n",
    "                    ret += str(edge) + \"; \"\n",
    "                ret += \"\\n\"\n",
    "        return ret\n",
    "    \n",
    "    def is_directed(self):\n",
    "        '''A classe Graph representa um grafo não orientado.'''\n",
    "        return False\n",
    "    \n",
    "    def order(self):\n",
    "        '''Ordem de um grafo: a quantidade de vértices no Grafo.'''\n",
    "        return self._n\n",
    "    \n",
    "    def size(self):\n",
    "        '''Dimensão de um grafo: a quantidade total de arestas do Grafo.'''\n",
    "        return self._m \n",
    "    \n",
    "    def has_vertex(self, vertex_id):\n",
    "        '''Verifica se o vértice de id vertex_id está no grafo.'''\n",
    "        return vertex_id in self._vertices\n",
    "    \n",
    "    def has_edge(self, u_id, v_id):\n",
    "        '''Verifica se a aresta (u_id, v_id) existe no grafo.'''\n",
    "        if not self.has_vertex(u_id) or not self.has_vertex(v_id):\n",
    "            return False\n",
    "        else:\n",
    "            vertex_u = self._vertices[u_id]\n",
    "            vertex_v = self._vertices[v_id]\n",
    "            return vertex_v in self._adjancencies[vertex_u]\n",
    "        \n",
    "    def has_neighbors(self, vertex_id):\n",
    "        '''Verifica se o vértice de id vertex_id tem vértices adjacentes (vizinhos).'''\n",
    "        if not self.has_vertex(vertex_id):\n",
    "            return False\n",
    "        return self.degree(vertex_id) == 0\n",
    "    \n",
    "    def insert_single_actor_movie(self, movie_name, actor_name):\n",
    "        '''Insere um novo filme com apenas um ator.'''\n",
    "        self._single_actor_movies[movie_name] = self.get_vertex(actor_name)\n",
    "    \n",
    "    def insert_vertex(self, vertex_id):\n",
    "        '''Insere um novo vértice com o id vertex_id.'''\n",
    "        if not self.has_vertex(vertex_id):\n",
    "            vertex = Vertex(vertex_id)\n",
    "            self._vertices[vertex_id] = vertex  # insere o novo vertice no dicionario de vertices\n",
    "            self._adjancencies[vertex] = {}     # inicializa o mapa de adjacências deste vértice a vazio\n",
    "            self._n +=1                         # mais um vértice no grafo\n",
    "\n",
    "    def insert_edge(self, u_id, v_id, edge_name):\n",
    "        ''' Cria e insere uma nova aresta entre u_id e v_id e com um nome associado.\n",
    "            Se a aresta já existe no grafo, adiciona-se o nome dado à lista já existente.\n",
    "            Também insere os vértices u_id e v_id, caso não existam.'''\n",
    "        if not self.has_vertex(u_id):\n",
    "            self.insert_vertex(u_id) # insere novo vertex e atualiza n\n",
    "        if not self.has_vertex(v_id):\n",
    "            self.insert_vertex(v_id) # insere novo vertex e atualiza n\n",
    "        if not self.has_edge(u_id, v_id):\n",
    "            self._m +=1           # atualiza m apenas se a aresta ainda não existir no grafo\n",
    "        vertex_u = self._vertices[u_id]\n",
    "        vertex_v = self._vertices[v_id]\n",
    "        # Attempt to get the existing edge to add to it\n",
    "        existing_edge = self._adjancencies.get(vertex_u, {}).get(vertex_v)\n",
    "        if existing_edge:\n",
    "            e = Edge(vertex_u, vertex_v, existing_edge.get_names() + [edge_name])\n",
    "        else:\n",
    "            e = Edge(vertex_u, vertex_v, [edge_name])\n",
    "\n",
    "        self._adjancencies[vertex_u][vertex_v] = e  # coloca v nas adjacências de u\n",
    "        self._adjancencies[vertex_v][vertex_u] = e  # e u nas adjacências de v (para facilitar a procura de todas as arestas incidentes num vértice)\n",
    "    \n",
    "    def incident_edges(self, vertex_id: str):\n",
    "        '''Devolve um iterável (gerador) com todas as arestas de um vértice com id vertex_id.'''\n",
    "        vertex = self._vertices[vertex_id]\n",
    "        for edge in self._adjancencies[vertex].values(): # para todas as arestas incidentes em v:\n",
    "            yield edge\n",
    "    \n",
    "    def degree(self, vertex_id: str):\n",
    "        '''Quantidade de arestas incidentes no vértice v.\n",
    "        '''\n",
    "        return len(self._adjancencies[self._vertices[vertex_id]])\n",
    "    \n",
    "    def get_vertex(self, vertex_id):\n",
    "        ''' Devolve o objeto Vertex associado ao elemento vertex_id no grafo\n",
    "        '''\n",
    "        return None if not self.has_vertex(vertex_id) else self._vertices[vertex_id] \n",
    "    \n",
    "    def get_edge(self, u_id, v_id):\n",
    "        ''' Devolve o objeto aresta (Edge) que liga u_id a v_id. \n",
    "            Devolve None se não forem adjacentes ou se (um d)os vértices não existirem.'''  \n",
    "        #if u_id not in self._adjancencies or v_id not in self._adjancencies:\n",
    "        if not self.has_edge(u_id, v_id):\n",
    "            return None\n",
    "        else:\n",
    "            vertex_u = self._vertices[u_id]\n",
    "            vertex_v = self._vertices[v_id]\n",
    "            return self._adjancencies[vertex_u][vertex_v]\n",
    "        \n",
    "    def get_single_actor_movie_actor(self, movie):\n",
    "        ''' Devolve o vértice associado ao ator do filme.'''\n",
    "        if movie in self._single_actor_movies:\n",
    "            return self._single_actor_movies[movie]\n",
    "        return None\n",
    "        \n",
    "    def get_single_actor_movies(self):\n",
    "        ''' Devolve o conjunto de filmes com apenas um ator.'''\n",
    "        for movie in self._single_actor_movies.keys():\n",
    "            yield movie\n",
    "    \n",
    "    def get_single_actor_movies_by_actor(self, actor_name):\n",
    "        ''' Devolve o conjunto de filmes solo de um determinado ator.'''\n",
    "        for movie, actor in self._single_actor_movies.items():\n",
    "            if actor.vertex_id() == actor_name:\n",
    "                yield movie\n",
    "    \n",
    "    def vertices(self):\n",
    "        '''Devolve um iterável sobre todos os vértices do Grafo (tipo Vertex)'''\n",
    "        for vertex in self._vertices.values():\n",
    "            yield vertex\n",
    "\n",
    "    def edges(self):\n",
    "        '''Devolve um iterável sobre todas as arestas do Grafo (sem arestas duplicadas).'''\n",
    "        seen = {}      # evita a repetição de arestas no grafo não orientado\n",
    "        for adj_map in self._adjancencies.values():\n",
    "            for edge in adj_map.values():\n",
    "                if edge not in seen:\n",
    "                    yield edge\n",
    "                seen[edge] = True\n",
    "    \n",
    "    def remove_vertex(self, vertex_id):\n",
    "        '''Remove o vértice com id vertex_id. Se o vértice não existir, não faz nada.'''\n",
    "        # Passo 1: remover todas as arestas do vértice dado\n",
    "        # Passo 2: remover todas as arestas incidentes em vertex_id dos mapas de outros vertices\n",
    "        # Passo 3: remover o vértice com id vertex_id do grafo\n",
    "        if self.has_vertex(vertex_id):\n",
    "            lst_copied = list(self.incident_edges(vertex_id)) # copia para a lista para evitar erros de concorrência (remove enquanto itera na lista)\n",
    "            for edge in lst_copied:\n",
    "                x, y = edge.endpoints()\n",
    "                self.remove_edge(x.vertex_id(),y.vertex_id())  # (Passos 1 e 2)\n",
    "            del self._adjancencies[self._vertices[vertex_id]]  # (Passo 3 - remove do dicionário de adjacências)\n",
    "            del self._vertices[vertex_id]                      # (Passo 3 - remove do dicionário de vértices)\n",
    "            self._n -=1\n",
    "        \n",
    "    def remove_edge(self, u_id, v_id):\n",
    "        '''Remove a aresta entre u_id e v_id. Se a aresta não existir, não faz nada.'''\n",
    "        if  self.has_edge(u_id, v_id):\n",
    "            vertex_u = self._vertices[u_id]\n",
    "            vertex_v = self._vertices[v_id]\n",
    "            del self._adjancencies[vertex_u][vertex_v]\n",
    "            if vertex_u != vertex_v:  # laços são removidos apenas uma vez\n",
    "                del self._adjancencies[vertex_v][vertex_u]\n",
    "            self._m -=1"
   ]
  },
  {
   "cell_type": "markdown",
   "metadata": {},
   "source": [
    "**Justificação**\n",
    "\n",
    "Neste modelo, os vértices são os atores e as arestas são a existência de um ou mais filmes em comum entre dois atores. Cada ator é conectado a outros atores através dos filmes em que atuaram juntos. Optou-se por representar os atores e atrizes como vértices, uma escolha intuitiva, pois o objetivo do jogo é encontrar a distância entre um ator/atriz específico (o \"centro do universo\") e todos os outros atores. As arestas representam a relação entre atores/atrizes que trabalharam juntos em pelo menos um filme. Essa relação é bidirecional, já que se dois atores atuaram juntos, a distância entre eles é a mesma, independentemente de quem seja o \"centro do universo\".\n",
    "\n",
    "Como a relação entre atores/atrizes é simétrica (se A atuou com B, então B atuou com A), o grafo será não orientado. Não é um grafo pesado, pois todas as relações têm o mesmo peso (indicam que os atores atuaram juntos em pelo menos um filme). Pode ser um grafo cíclico, pois é possível que um conjunto de atores tenha atuado juntos em mais de um filme\n",
    "\n",
    "Uma modificação significativa na classe Graph fornecida foi a inclusão de métodos específicos para lidar com filmes em que apenas um ator atua, como \"insert_single_actor_movie\", \"get_single_actor_movies\", \"get_single_actor_movie_actor\" e \"get_single_actor_movies_by_actor\", de modo a conseguir guardar os nomes destes filmes, uma vez que nunca iriam ter uma ligação com outros atores através deste filme, nunca sendo criada uma aresta para tal, desta forma consegue-se apresentar o nome de todos os filmes quando pedido. Além disso, a estrutura da classe Edge foi modificada para armazenar os nomes dos filmes, garantindo que essa informação não seja perdida quando dois atores têm mais do que uma participação em filmes comuns. Assim, foi adicionado o método \"get_names\" e alterada a estrutura do \"insert_edge\". Estas modificações são essenciais para adequar a classe Graph às necessidades específicas do problema proposto."
   ]
  },
  {
   "cell_type": "markdown",
   "metadata": {},
   "source": [
    "#### **1.b)** [1,5 valores] Implemente uma função auxiliar que irá construir um grafo (do tipo `Graph` implementado) a partir dos dados de um ficheiro .txt fornecido. A função deve receber como argumento o nome do ficheiro e devolver um objeto do tipo `Graph`.\n",
    "\n",
    "**Nota 1:** Cada linha do ficheiro fornecido apresenta o nome de um filme seguido de uma lista dos atores que participaram no filme. Para separar os nomes que aparecem numa linha, o caracter '/' é utilizado como delimitador.\n",
    "\n",
    "```\n",
    "Harry Potter and the Chamber of Secrets (2002)/Davis, Warwick (I)/Knight, Tom (I)/…\n",
    "Harry Potter and the Goblet of Fire (2005)/Gambon, Michael/Claydon, Steve (II)/…\n",
    "Harry Potter and the Prisoner of Azkaban (2004)/Phelps, James (I)/Murray, Devon/…\n",
    "…\n",
    "```\n",
    "\n",
    "São anexadas duas bases de dados ao enunciado do projeto:\n",
    "- `small_dataset.txt`: Contém a lista de filmes classificados no [IMDB](https://www.imdb.com/) em 2011: 4.527 filmes e 122.406 atores (~3,5MB). Deve ser utilizada para realizar testes enquanto implementa a sua API.\n",
    "- `large_dataset.txt`: Contém todos os filmes do [IMDB](https://www.imdb.com/) em 2011: 285.460 filmes e 933.864 atores (~60MB). Deve ser usada para gerar os resultados dos testes definidos na Secção 3. Note que, para conseguir testar com esta base de dados, terá de ter disponível um espaço de memória RAM suficiente, uma vez que o grafo irá ser todo carregado para a memória.\n",
    "\n",
    "**Nota 2:** Se achar mais fácil ter esta função implementada na classe `HollywoodOracle` (Secção 2), é livre\n",
    "de o fazer."
   ]
  },
  {
   "cell_type": "code",
   "execution_count": 2,
   "metadata": {},
   "outputs": [],
   "source": [
    "def parseDatabase(filename):\n",
    "    graph = Graph()\n",
    "\n",
    "    try:\n",
    "        with open(filename, \"r\", encoding=\"utf8\") as file:\n",
    "            for line in file:\n",
    "                # Remove the trailing and leading whitespaces and newlines\n",
    "                lineSplit = line.strip().split(\"/\")\n",
    "                if len(lineSplit) == 2:\n",
    "                    graph.insert_vertex(lineSplit[1])\n",
    "                    graph.insert_single_actor_movie(lineSplit[0], lineSplit[1])\n",
    "                    continue\n",
    "                for i in range(1, len(lineSplit)):\n",
    "                    for j in range(i + 1, len(lineSplit)):\n",
    "                        graph.insert_edge(lineSplit[i], lineSplit[j], lineSplit[0])\n",
    "        return graph\n",
    "    except FileNotFoundError:\n",
    "        print(\"File not found\")\n",
    "        return None"
   ]
  },
  {
   "cell_type": "markdown",
   "metadata": {},
   "source": [
    "## **2)** API HollywoodOracle\n",
    "A sua aplicação terá de suportar as operações listadas na API `HollywoodOracle` apresentada abaixo.\n",
    "\n",
    "#### **2.a)** [1,5 valores] Descreva a estrutura de dados que utilizou para implementar a sua API. Apresente uma análise informal do espaço em memória total utilizado pela sua aplicação. Mais especificamente, indique quanto espaço de memória os atributos da sua classe `HollywoodOracle` ocupam em relação ao número de filmes e atores/atrizes que existem na base de dados analisada.\n",
    "\n",
    "**Nota:** Em relação ao espaço em memória, deve também apresentar uma estimativa do espaço real ocupado pela classe. Para isso, pode utilizar a função getsizeof() do módulo Python sys, e verificar o tamanho dos atributos do grafo construído e também de qualquer outro atributo que componha a sua implementação da classe `HollywoodOracle`."
   ]
  },
  {
   "cell_type": "code",
   "execution_count": null,
   "metadata": {},
   "outputs": [],
   "source": []
  },
  {
   "cell_type": "markdown",
   "metadata": {},
   "source": [
    "#### **2.b)** [12 valores] Implemente cada uma das operações listadas na API `HollywoodOracle` abaixo. Para cada operação, deve apresentar uma análise informal da sua complexidade em relação ao tempo e ao espaço extra de memória utilizado (em relação ao número de filmes/atores).\n",
    "\n",
    "**Nota 1:** Pode haver vários caminhos de distância mínima entre o “centro do universo” e um ator qualquer. Neste trabalho, será suficiente apresentar um destes caminhos.\n",
    "\n",
    "**Nota 2:** Comece por testar cada um dos métodos com um ficheiro que tenha apenas 5-10 filmes antes de realizar testes na base de dados `small_dataset.txt`, para ter a certeza de que a sua resolução está correta. No relatório, apresente os resultados dos testes que foram realizados para cada método (exceto `all_movies()` e `all_actors()`) usando a base de dados `small_dataset.txt`\n",
    "\n",
    "| `class HollywoodOracle` | Descrição | Cotação (valores) |\n",
    "| --- | --- | --- |\n",
    "| `__init__(filename)` | [construtor] Inicia os atributos definidos para a classe. Recebe o nome do ficheiro (filename) a partir do qual será criada a sua estrutura de grafo.<br>Configura, por defeito, o “centro do universo” como o ator “Bacon, Kevin” e calcula o “número de Bacon” para cada ator existente na base de dados. | 5,0 |\n",
    "| `all_movies()` | Devolve um iterável com todos os filmes na base de dados. | 0,25 |\n",
    "| `all_actors()` | Devolve um iterável com todos os atores na base de dados. | 0,25 |\n",
    "| `movies_from(a)` | Devolve um iterável que lista os filmes em que o ator dado (a) já atuou. | 0,5 |\n",
    "| `cast_of(m)` | Devolve um iterável com os atores que atuaram num dado filme (m). | 0,5 |\n",
    "| `set_center_of_universe(x)` | Configura o ator dado (x) como novo “centro do universo” e calcula novamente o “número de X” para cada ator existente na base de dados. | 0,25 |\n",
    "| `number_of_X(a)` | Devolve o “numero de X” do ator dado (a), considerando o “centro do universo” atual, X. | 0,25 |\n",
    "| `path_to_X(a)` | Devolve a sequência de filmes e atores que conduzem ao ator “centro do universo”, X (semelhante ao exemplo dado na Fig. 1). <br>**Nota:** Caso devolva apenas a sequência de atores, a cotação sofrerá um desconto de 0,75 valor. | 1,5 |\n",
    "| `max_number_of_X()` | Devolve: <br>- O \"número de X\" máximo para os atores existentes na base de dados, excluindo todos os atores que não estão relacionados com o “centro do universo” atual (e cujo “número de X” é infinito). <br>- O número de atores que não estão relacionados com o “centro do universo” atual. | 1,0 |\n",
    "| `count_number_of_X(n)` | Devolve o número de atores/atrizes com “numero de X” igual ao valor inteiro dado (n). | 1,0 |\n",
    "| `average_number_of_X()` | Devolve o valor médio do “número de X” para os atores existentes na base de dados, excluindo todos os atores que não estão relacionados com o “centro do universo” atual (e cujo “número de X” é infinito). | 1,5 |\n"
   ]
  },
  {
   "cell_type": "code",
   "execution_count": 3,
   "metadata": {},
   "outputs": [],
   "source": [
    "class HollywoodOracle:\n",
    "\tdef __init__(self, filename):\n",
    "\t\tself._graph = parseDatabase(filename)\n",
    "\t\tself.set_center_of_universe(\"Bacon, Kevin\")\n",
    "\t\n",
    "\tdef all_movies(self):\n",
    "\t\t# Generator of unique movies with only one actor and all movies in the graph\n",
    "\t\tseen = set()\n",
    "\t\tfor movie in self._graph.get_single_actor_movies():\n",
    "\t\t\tyield movie\n",
    "\t\tfor edge in self._graph.edges():\n",
    "\t\t\tfor name in edge.get_names():\n",
    "\t\t\t\tif name not in seen:\n",
    "\t\t\t\t\tseen.add(name)\n",
    "\t\t\t\t\tyield name\n",
    "\t\n",
    "\tdef all_actors(self):\n",
    "\t\tfor vertex in self._graph.vertices():\n",
    "\t\t\tyield vertex.vertex_id()\n",
    "\n",
    "\tdef movies_from(self, actor):\n",
    "\t\t# Union of solo movies and non-solo movies of an actor\n",
    "\t\tseen = set()\n",
    "\t\tfor movie in self._graph.get_single_actor_movies_by_actor(actor):\n",
    "\t\t\tyield movie\n",
    "\t\tfor edge in self._graph.incident_edges(actor):\n",
    "\t\t\tfor name in edge.get_names():\n",
    "\t\t\t\tif name not in seen:\n",
    "\t\t\t\t\tseen.add(name)\n",
    "\t\t\t\t\tyield name\n",
    "\t\n",
    "\tdef cast_of(self, movie):\n",
    "\t\tsingleActor = self._graph.get_single_actor_movie_actor(movie)\n",
    "\t\tif singleActor:\n",
    "\t\t\tyield singleActor\n",
    "\t\telse:\n",
    "\t\t\tfor edge in self._graph.edges():\n",
    "\t\t\t\tif movie in edge.get_names():\n",
    "\t\t\t\t\tchosenActor = edge.endpoints()[0]\n",
    "\t\t\t\t\tbreak\n",
    "\t\t\tyield chosenActor\n",
    "\t\t\tfor edge in self._graph.incident_edges(chosenActor.vertex_id()):\n",
    "\t\t\t\tif movie in edge.get_names():\n",
    "\t\t\t\t\tyield edge.opposite(chosenActor)\n",
    "\t\n",
    "\tdef set_center_of_universe(self, actor):\n",
    "\t\tself._center_of_universe = self._graph.get_vertex(actor)\n",
    "\t\tqueue = [self._center_of_universe]\n",
    "\t\tself._distances = {self._center_of_universe : 0}\n",
    "\n",
    "\t\twhile queue:\n",
    "\t\t\tcurrent_vertex = queue.pop(0)\n",
    "\n",
    "\t\t\tfor edge in self._graph.incident_edges(current_vertex.vertex_id()):\n",
    "\t\t\t\topposite_vertex = edge.opposite(current_vertex)\n",
    "\t\t\t\tif opposite_vertex not in self._distances:\n",
    "\t\t\t\t\tself._distances[opposite_vertex] = self._distances[current_vertex] + 1\n",
    "\t\t\t\t\tqueue.append(opposite_vertex)\n",
    "\t\n",
    "\tdef number_of_X(self, actor):\n",
    "\t\t'''Devolve o número de X de um ator, ou -1 caso o ator não esteja relacionado com o centro, ou não exista'''\n",
    "\t\treturn self._distances.get(self._graph.get_vertex(actor), -1)\n",
    "\t\n",
    "\tdef path_to_X(self, actor):\n",
    "\t\tif self.number_of_X(actor) == -1:\n",
    "\t\t\treturn None\n",
    "\t\t\n",
    "\t\tcurrent_vertex = self._graph.get_vertex(actor)\n",
    "\t\tpath = [current_vertex.vertex_id()]\n",
    "\t\twhile current_vertex != self._center_of_universe:\n",
    "\t\t\tfor edge in self._graph.incident_edges(current_vertex.vertex_id()):\n",
    "\t\t\t\topposite_vertex = edge.opposite(current_vertex)\n",
    "\t\t\t\tif self._distances[opposite_vertex] == self._distances[current_vertex] - 1:\n",
    "\t\t\t\t\t# First append the first movie they have in common\n",
    "\t\t\t\t\tpath.append(edge.get_names()[0])\n",
    "\t\t\t\t\t# Then append the actor\n",
    "\t\t\t\t\tpath.append(opposite_vertex.vertex_id())\n",
    "\t\t\t\t\tcurrent_vertex = opposite_vertex\n",
    "\t\t\t\t\tbreak\n",
    "\t\treturn path\n",
    "\t\n",
    "\tdef max_number_of_X(self):\n",
    "\t\treturn max(self._distances.values()), sum(1 for _ in self.all_actors()) - sum(1 for _ in self._distances)\n",
    "\n",
    "\tdef count_number_of_X(self, n):\n",
    "\t\treturn sum(1 for key in self._distances if self._distances[key] == n)\n",
    "\n",
    "\tdef average_number_of_X(self):\n",
    "\t\treturn sum(self._distances.values()) / len(self._distances)"
   ]
  },
  {
   "cell_type": "code",
   "execution_count": 4,
   "metadata": {},
   "outputs": [
    {
     "name": "stdout",
     "output_type": "stream",
     "text": [
      "48\n"
     ]
    }
   ],
   "source": [
    "import sys\n",
    "\n",
    "apiObjSmall = HollywoodOracle(\"small_dataset_utf8.txt\")\n",
    "print(sys.getsizeof(apiObjSmall))\n",
    "# Complexidade temporal:\n",
    "# Complexidade espacial:"
   ]
  },
  {
   "cell_type": "code",
   "execution_count": 5,
   "metadata": {},
   "outputs": [
    {
     "data": {
      "text/plain": [
       "4527"
      ]
     },
     "execution_count": 5,
     "metadata": {},
     "output_type": "execute_result"
    }
   ],
   "source": [
    "sum(1 for _ in apiObjSmall.all_movies())\n",
    "# Complexidade temporal: O(m) -> m = número de arestas, dado que intera por todas as arestas\n",
    "# Complexidade espacial: O(1)"
   ]
  },
  {
   "cell_type": "code",
   "execution_count": 6,
   "metadata": {},
   "outputs": [
    {
     "data": {
      "text/plain": [
       "122406"
      ]
     },
     "execution_count": 6,
     "metadata": {},
     "output_type": "execute_result"
    }
   ],
   "source": [
    "sum(1 for _ in apiObjSmall.all_actors())\n",
    "# Complexidade temporal: O(n) -> n = número de vértices, dado que intera por todos os vértices\n",
    "# Complexidade espacial: O(1)"
   ]
  },
  {
   "cell_type": "code",
   "execution_count": 7,
   "metadata": {},
   "outputs": [
    {
     "name": "stdout",
     "output_type": "stream",
     "text": [
      "Animal House (1978)\n",
      "JFK (1991)\n",
      "Apollo 13 (1995)\n",
      "Few Good Men, A (1992)\n",
      "Murder in the First (1995)\n",
      "Trapped (2002)\n",
      "Footloose (1984)\n",
      "My Dog Skip (2000)\n",
      "Beauty Shop (2005)\n",
      "She's Having a Baby (1988)\n",
      "Diner (1982)\n",
      "Sleepers (1996)\n",
      "Flatliners (1990)\n",
      "Friday the 13th (1980)\n",
      "He Said, She Said (1991)\n",
      "Hollow Man (2000)\n",
      "Picture Perfect (1997)\n",
      "Tremors (1990)\n",
      "In the Cut (2003)\n",
      "Planes, Trains & Automobiles (1987)\n",
      "Woodsman, The (2004)\n",
      "Mystic River (2003)\n",
      "Novocaine (2001)\n",
      "Stir of Echoes (1999)\n",
      "River Wild, The (1994)\n",
      "Wild Things (1998)\n",
      "Where the Truth Lies (2005)\n"
     ]
    }
   ],
   "source": [
    "for movie in apiObjSmall.movies_from(\"Bacon, Kevin\"): print(movie)\n",
    "# Complexidade temporal: O(deg(m)) -> m = número de arestas, dado que intera por todas as arestas incidentes no vértice, através de uma lista de adjacências\n",
    "# Complexidade espacial: O(1)"
   ]
  },
  {
   "cell_type": "code",
   "execution_count": 8,
   "metadata": {},
   "outputs": [
    {
     "name": "stdout",
     "output_type": "stream",
     "text": [
      "vBelushi, John\n",
      "vMatheson, Tim (I)\n",
      "vFreeman, John (III)\n",
      "vWiddoes, James\n",
      "vRobinson, Raymone\n",
      "vFurst, Stephen\n",
      "vDaughton, James\n",
      "vMiller, Chris (III)\n",
      "vRiegert, Peter\n",
      "vFarmer, Reginald\n",
      "vMetcalf, Mark\n",
      "vJessie, DeWayne\n",
      "vBonnheim, Bruce\n",
      "vBacon, Kevin\n",
      "vElliott, Robert (II)\n",
      "vEby, Rick\n",
      "vDanova, Cesare\n",
      "vSimonds, Fred\n",
      "vBishop, Stephen (I)\n",
      "vKenney, Douglas\n",
      "vVernon, John (I)\n",
      "vCray, Robert\n",
      "vDumas, Jebidiah R.\n",
      "vHulce, Tom\n",
      "vMcCartin, Sean (I)\n",
      "vSutherland, Donald (I)\n",
      "vDaniel, Joshua (I)\n",
      "vGreenough, Rick\n",
      "vMcGill, Bruce\n",
      "vDenning, Katherine\n",
      "vRoberts, Eliza\n",
      "vBloom, Verna\n",
      "vHolcomb, Sarah\n",
      "vWeller, Mary Louise\n",
      "vVick, Helen\n",
      "vSmith, Martha\n",
      "vJurgenson, Aseneth\n",
      "vJohnson, Sunny (II)\n",
      "vLauris, Priscilla\n",
      "vGrooman, Stacy\n",
      "vBaur, Lisa\n",
      "vAllen, Karen (I)\n",
      "vBelushi-Pisano, Judith\n"
     ]
    }
   ],
   "source": [
    "for actor in apiObjSmall.cast_of(\"Animal House (1978)\"): print(actor)\n",
    "# Complexidade temporal: O(m) -> m = número de arestas, dado que, na pior situação, intera por todas as arestas\n",
    "# Complexidade espacial: O(1)"
   ]
  },
  {
   "cell_type": "code",
   "execution_count": 9,
   "metadata": {},
   "outputs": [
    {
     "data": {
      "text/plain": [
       "'Damon, Matt'"
      ]
     },
     "execution_count": 9,
     "metadata": {},
     "output_type": "execute_result"
    }
   ],
   "source": [
    "apiObjSmall.set_center_of_universe(\"Damon, Matt\")\n",
    "# Complexidade temporal: O(n + deg(m)) -> n, m = número de: vértices, arestas, dado que pode percorrer todos os vértices e arestas incidentes a eles\n",
    "# Complexidade espacial: O(n) -> n = número de vértices, dado que cria um dicionário com todos os vértices, e as suas distâncias ao centro\n",
    "apiObjSmall._center_of_universe.vertex_id()"
   ]
  },
  {
   "cell_type": "code",
   "execution_count": 10,
   "metadata": {},
   "outputs": [
    {
     "name": "stdout",
     "output_type": "stream",
     "text": [
      "0\n",
      "2\n",
      "-1\n"
     ]
    }
   ],
   "source": [
    "print(apiObjSmall.number_of_X(\"Damon, Matt\"))\n",
    "print(apiObjSmall.number_of_X(\"Bacon, Kevin\"))\n",
    "print(apiObjSmall.number_of_X(\"André, Victor\"))\n",
    "# Complexidade temporal: O(1)\n",
    "# Complexidade espacial: O(1)"
   ]
  },
  {
   "cell_type": "code",
   "execution_count": 11,
   "metadata": {},
   "outputs": [
    {
     "data": {
      "text/plain": [
       "['Damon, Matt',\n",
       " 'Courage Under Fire (1996)',\n",
       " 'McGill, Bruce',\n",
       " 'Animal House (1978)',\n",
       " 'Bacon, Kevin']"
      ]
     },
     "execution_count": 11,
     "metadata": {},
     "output_type": "execute_result"
    }
   ],
   "source": [
    "apiObjSmall.path_to_X(\"Bacon, Kevin\")\n",
    "# Complexidade temporal: O(n + deg(m)) -> n, m = número de: vértices, arestas, dado que pode percorrer todas as arestas incidentes nos vértices, até encontrar o caminho\n",
    "# Complexidade espacial: O(n + m) -> n, m = número de: vértices, arestas, dado que pode criar uma lista com todos os vértices e arestas incidentes a eles"
   ]
  },
  {
   "cell_type": "code",
   "execution_count": 12,
   "metadata": {},
   "outputs": [
    {
     "data": {
      "text/plain": [
       "(6, 604)"
      ]
     },
     "execution_count": 12,
     "metadata": {},
     "output_type": "execute_result"
    }
   ],
   "source": [
    "apiObjSmall.max_number_of_X()\n",
    "# Complexidade temporal: O(n) -> n = número de vértices, dado que invoca a função all_actors\n",
    "# Complexidade espacial: O(1)"
   ]
  },
  {
   "cell_type": "code",
   "execution_count": 13,
   "metadata": {},
   "outputs": [
    {
     "data": {
      "text/plain": [
       "83011"
      ]
     },
     "execution_count": 13,
     "metadata": {},
     "output_type": "execute_result"
    }
   ],
   "source": [
    "apiObjSmall.count_number_of_X(2)\n",
    "# Complexidade temporal: O(n) -> n = número de vértices, dado que intera por todos os vértices\n",
    "# Complexidade espacial: O(1)"
   ]
  },
  {
   "cell_type": "code",
   "execution_count": 14,
   "metadata": {},
   "outputs": [
    {
     "data": {
      "text/plain": [
       "2.296481174364953"
      ]
     },
     "execution_count": 14,
     "metadata": {},
     "output_type": "execute_result"
    }
   ],
   "source": [
    "apiObjSmall.average_number_of_X()\n",
    "# Complexidade temporal: O(n) -> n = número de vértices, dado que intera por todos os vértices\n",
    "# Complexidade espacial: O(1)"
   ]
  },
  {
   "cell_type": "markdown",
   "metadata": {},
   "source": [
    "## **3)** Testes\n",
    "#### **3.1)** [1 valor] Usando a base de dados `large_dataset.txt`, implemente um script/função que utiliza a API `HollywoodOracle` e apresenta um histograma do número de atores com o mesmo “número de Bacon” (para todos os “números de Bacon” diferentes de infinito). Considere como o “centro do universo” o ator “Bacon, Kevin”.\n",
    "**Nota 1:** Para além do gráfico, imprima os resultados encontrados, ou seja, imprima o número de atores com cada “número Bacon” possível (numa linha diferente).\n",
    "\n",
    "**Nota 2:** Imprima também “número de Bacon” médio encontrado (ou seja, o resultado da operação\n",
    "`average_number_of_X()`).\n"
   ]
  },
  {
   "cell_type": "code",
   "execution_count": 15,
   "metadata": {},
   "outputs": [
    {
     "name": "stdout",
     "output_type": "stream",
     "text": [
      "48\n"
     ]
    }
   ],
   "source": [
    "import matplotlib.pyplot as plt\n",
    "\n",
    "apiObjLarge = HollywoodOracle(\"large_dataset_utf8.txt\")\n",
    "print(sys.getsizeof(apiObjLarge))"
   ]
  },
  {
   "cell_type": "code",
   "execution_count": 16,
   "metadata": {},
   "outputs": [
    {
     "data": {
      "image/png": "[encoded data removed]",
      "text/plain": [
       "<Figure size 640x480 with 1 Axes>"
      ]
     },
     "metadata": {},
     "output_type": "display_data"
    },
    {
     "name": "stdout",
     "output_type": "stream",
     "text": [
      "Atores com número de bacon = 1: 2249\n",
      "Atores com número de bacon = 2: 218085\n",
      "Atores com número de bacon = 3: 561132\n",
      "Atores com número de bacon = 4: 111180\n",
      "Atores com número de bacon = 5: 7906\n",
      "Atores com número de bacon = 6: 903\n",
      "Atores com número de bacon = 7: 100\n",
      "Atores com número de bacon = 8: 14\n",
      "Número médio de bacon: 2.8974954801069246\n"
     ]
    }
   ],
   "source": [
    "xAxis = range(1,apiObjLarge.max_number_of_X()[0] + 1)\n",
    "yAxis = [apiObjLarge.count_number_of_X(i) for i in xAxis]\n",
    "plt.bar(xAxis, yAxis)\n",
    "plt.title(\"Números de Bacon\")\n",
    "plt.xlabel(\"Números\")\n",
    "plt.ylabel(\"Quantidade de atores\")\n",
    "\n",
    "plt.show()\n",
    "\n",
    "for index, num in enumerate(yAxis):\n",
    "\tprint(\"Atores com número de bacon = \" + str(index + 1) + \": \" + str(num))\n",
    "\n",
    "print(\"Número médio de bacon: \" + str(apiObjLarge.average_number_of_X()))"
   ]
  },
  {
   "cell_type": "markdown",
   "metadata": {},
   "source": [
    "#### **3.2)** [1 valor] Usando a base de dados `large_dataset.txt`, implemente um script/função que utiliza a API `HollywoodOracle` e apresenta um gráfico do “número de X” médio considerando como o “centro do universo” cada um dos 20 atores mais populares de Hollywood nos anos 2000, segundo o [IMDB](https://www.imdb.com/list/ls096088084/). Ou seja, a função `average_number_of_X` deve ser executada para cada um dos 20 atores de modo a obter o seu “número médio de X”. A lista de atores mais populares encontra-se no ficheiro `top20imbd.csv` anexado.\n",
    "**Nota 1:** Para além do gráfico, imprima os resultados, ou seja, imprima os valores do “número de X” médio de cada um dos 20 atores (numa linha diferente).\n",
    "\n",
    "**Nota 2:** Se, por qualquer razão, não for possível executar este teste na base de dados large_dataset.txt, deve justificar a razão do problema e, em alternativa, executar o teste utilizando o ficheiro small_dataset.txt. Só serão aceites justificações sustentadas por factos (por exemplo, capturas de ecrã do erro e/ou tempo de execução)."
   ]
  },
  {
   "cell_type": "code",
   "execution_count": 18,
   "metadata": {},
   "outputs": [
    {
     "name": "stdout",
     "output_type": "stream",
     "text": [
      "Número de bacon médio do ator Depp, Johnny: 2.871358851780782\n",
      "Número de bacon médio do ator Damon, Matt: 2.907931719112215\n",
      "Número de bacon médio do ator Clooney, George: 2.877270761005801\n",
      "Número de bacon médio do ator Jolie, Angelina: 2.962805993988265\n",
      "Número de bacon médio do ator Blanchett, Cate: 2.9758166309881653\n",
      "Número de bacon médio do ator Bale, Christian: 2.9393857382122297\n",
      "Número de bacon médio do ator Pitt, Brad: 2.869159355346784\n",
      "Número de bacon médio do ator DiCaprio, Leonardo: 2.8920117129008287\n",
      "Número de bacon médio do ator Ledger, Heath: 3.1100114245150126\n",
      "Número de bacon médio do ator Portman, Natalie: 2.949464822476347\n",
      "Número de bacon médio do ator Diaz, Cameron: 2.9592200272857347\n",
      "Número de bacon médio do ator Aniston, Jennifer: 3.0929656044455784\n",
      "Número de bacon médio do ator Neeson, Liam: 2.8505739986911722\n",
      "Número de bacon médio do ator Crowe, Russell: 2.9393180784631254\n",
      "Número de bacon médio do ator Banderas, Antonio (I): 2.8517386337167387\n",
      "Número de bacon médio do ator Bullock, Sandra: 2.9773051454684607\n",
      "Número de bacon médio do ator Roberts, Julia (I): 2.8515234535310623\n",
      "Número de bacon médio do ator Thurman, Uma: 2.8781115165766384\n",
      "Número de bacon médio do ator Smith, Will (I): 2.99873110241024\n",
      "Número de bacon médio do ator Hanks, Tom: 2.8632086249542463\n"
     ]
    },
    {
     "data": {
      "image/png": "[encoded data removed]",
      "text/plain": [
       "<Figure size 640x480 with 1 Axes>"
      ]
     },
     "metadata": {},
     "output_type": "display_data"
    }
   ],
   "source": [
    "actorsAndAverages: list[str, float] = []\n",
    "with open(\"top20imdb.csv\", encoding=\"utf8\") as file:\n",
    "    for line in file:\n",
    "        rank, actor = line.strip().split(\";\")\n",
    "        apiObjLarge.set_center_of_universe(actor)\n",
    "        numberOfX = apiObjLarge.average_number_of_X()\n",
    "        print(\"Número de bacon médio do ator \" + actor + \": \" + str(numberOfX))\n",
    "        actorsAndAverages.append((actor, numberOfX))\n",
    "\n",
    "actors, averages = zip(*actorsAndAverages)\n",
    "plt.bar(actors, averages)\n",
    "plt.xticks(rotation='vertical')\n",
    "plt.title(\"Números de Bacon médio dos 20 melhores atores\")\n",
    "plt.xlabel(\"Atores\")\n",
    "plt.ylabel(\"Número médio de Bacon\")\n",
    "plt.show()"
   ]
  },
  {
   "cell_type": "markdown",
   "metadata": {},
   "source": [
    "#### **3.3)** [1 valor] Se a teoria dos seis graus de separação for verdadeira para Hollywood, isso implicaria que a maioria dos atores terá um “número de X” de 6 ou menos, o que significa que o “número de X” médio seria menor do 6. Para testar esta teoria, implemente um script/função que utiliza a API `HollywoodOracle` com a base de dados `small_dataset.txt`, e apresenta um gráfico do “número de X” médio considerando como o “centro do universo” 1000 atores selecionados de forma aleatória da base de dados.\n",
    "\n",
    "**Nota:** Este teste pode demorar bastante tempo a ser concluído. Por esta razão, sugerimos que escreva os resultados num ficheiro para que seja possível recuperá-los caso a execução seja interrompida.\n"
   ]
  },
  {
   "cell_type": "code",
   "execution_count": 19,
   "metadata": {},
   "outputs": [
    {
     "name": "stdout",
     "output_type": "stream",
     "text": [
      "File only had 0 entries, adding more until 1000...\n"
     ]
    },
    {
     "data": {
      "image/png": "[encoded data removed]",
      "text/plain": [
       "<Figure size 640x480 with 1 Axes>"
      ]
     },
     "metadata": {},
     "output_type": "display_data"
    }
   ],
   "source": [
    "import random\n",
    "\n",
    "averageNumbers: list[float] = []\n",
    "\n",
    "filename = \"randomActors_3_3_test.txt\"\n",
    "\n",
    "try:\n",
    "    with open(filename, \"r\", encoding=\"utf8\") as file:\n",
    "        for line in file:\n",
    "            _, averageNumber = line.strip().split(\": \")\n",
    "            averageNumbers.append(float(averageNumber))\n",
    "except FileNotFoundError:\n",
    "    pass\n",
    "\n",
    "countedActors = len(averageNumbers)\n",
    "if countedActors < 1000:\n",
    "\tprint(\"File only had \" + str(countedActors) + \" entries, adding more until 1000...\")\n",
    "\tallActors = list(apiObjSmall.all_actors())\n",
    "\tfor actor in random.sample(allActors, 1000 - countedActors):\n",
    "\t\tapiObjSmall.set_center_of_universe(actor)\n",
    "\t\taverageNum = apiObjSmall.average_number_of_X()\n",
    "\t\taverageNumbers.append(averageNum)\n",
    "\t\twith open(filename, \"a\", encoding=\"utf8\") as file:\n",
    "\t\t\tfile.write(actor + \": \" + str(averageNum) + \"\\n\")\n",
    "\n",
    "plt.plot(range(1, 1001), averageNumbers)\n",
    "plt.ylabel(\"Média do número de X\")\n",
    "plt.show()"
   ]
  },
  {
   "cell_type": "markdown",
   "metadata": {},
   "source": [
    "## 4) Questões Éticas\n",
    "Tente resolver os problemas apenas com os integrantes do seu grupo antes de colaborar. Escreva as suas respostas por suas próprias palavras. Nunca deve partilhar o ficheiro fonte com as suas soluções com integrantes de outros grupos.\n",
    "#### 4.a) Se colaborou com alguém fora do seu grupo, indique aqui os respetivos nomes.\n",
    "\n"
   ]
  },
  {
   "cell_type": "markdown",
   "metadata": {},
   "source": []
  },
  {
   "cell_type": "markdown",
   "metadata": {},
   "source": [
    "#### 4.b) Deve citar todas as fontes que utilizou fora do material da UC.\n",
    "\n",
    "Qualquer indício de plágio implica, automaticamente, na reprovação na avaliação periódica.\n",
    "Consoante a gravidade dos indícios de plágio, estes serão apropriadamente investigados e, caso se confirme que um estudante cometeu plágio, este estará automaticamente reprovado à UC."
   ]
  },
  {
   "cell_type": "markdown",
   "metadata": {},
   "source": []
  }
 ],
 "metadata": {
  "kernelspec": {
   "display_name": "Python 3",
   "language": "python",
   "name": "python3"
  },
  "language_info": {
   "codemirror_mode": {
    "name": "ipython",
    "version": 3
   },
   "file_extension": ".py",
   "mimetype": "text/x-python",
   "name": "python",
   "nbconvert_exporter": "python",
   "pygments_lexer": "ipython3",
   "version": "3.12.3"
  }
 },
 "nbformat": 4,
 "nbformat_minor": 2
}
