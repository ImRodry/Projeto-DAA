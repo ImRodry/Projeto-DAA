{
 "cells": [
  {
   "cell_type": "markdown",
   "metadata": {},
   "source": [
    "# Minitrabalho de DAA\n",
    "Trabalho realizado por:\n",
    "- Gonçalo Ribeiro, nº 110730\n",
    "- Rodrigo Leitão, nº 111008\n",
    "\n",
    "## **1)** Algoritmo de força-bruta\n",
    "\n",
    "#### **1.a)** [1 valor] Descreva brevemente qual seria o algoritmo de força-bruta que resolve o problema do número de inversões num array."
   ]
  },
  {
   "cell_type": "markdown",
   "metadata": {},
   "source": [
    "**R.:** Um algoritmo no qual se corre o array todo e que por cada elemento se verificam todos os elementos à sua frente e em todos que satisfaçam a condição de serem menores, incrementa-se uma variável que guarda o total de ocorrências."
   ]
  },
  {
   "cell_type": "markdown",
   "metadata": {},
   "source": [
    "#### **1.b)** [1 valor] Implemente em Python o algoritmo descrito na alínea anterior. O algoritmo deve receber como entrada uma coleção de inteiros, e devolver o número de inversões encontrados nesta coleção."
   ]
  },
  {
   "cell_type": "code",
   "execution_count": 15,
   "metadata": {},
   "outputs": [],
   "source": [
    "def forca_bruta(array):\n",
    "    result = 0\n",
    "    size = len(array)\n",
    "    for i in range(size):\n",
    "        for j in range(i+1, size):\n",
    "            if array[i] > array[j]:\n",
    "                result += 1\n",
    "    return result"
   ]
  },
  {
   "cell_type": "markdown",
   "metadata": {},
   "source": [
    "#### **1.c)** [3 valores] Apresente uma análise assintótica do seu algoritmo, considerando o número de acessos ao array (ou seja, o número de acessos para leitura e escrita de uma posição do array) que são executados para **o seu algoritmo** em função do tamanho, **n**, do array.\n",
    "\n",
    "- **Nota:** É esperado que sejam apresentados os cálculos completos do número de acessos assim como a correspondente conclusão sobre o tempo de execução do algoritmo (utilizando notação assintótica)."
   ]
  },
  {
   "cell_type": "markdown",
   "metadata": {},
   "source": [
    "**R.:** No nosso algortimo podemos observar dois loops `for`, em que o primeiro percorre o array todo, e o segundo percorre os elementos à direita do atual do primeiro loop. \n",
    "\n",
    "Tendo isto em conta e que por cada ciclo completo são feitos 2 acessos ao array durante a comparação, podemos concluir que o número total de acessos, em função do tamanho, n, do array, vai ser: $2\\times\\frac{(n-1)n}{2}$ (obtém-se através da adaptação da fórmula da soma dos n primeiros números naturais, uma vez que no primeiro ciclo completo fazemos n - 1 comparações), simplificando $(n-1)n$.\n",
    "\n",
    "Concluimos então que o tempo de execução do algoritmo, em notação assintótica é $O(n^2)$."
   ]
  },
  {
   "cell_type": "markdown",
   "metadata": {},
   "source": [
    "## **2)** Algoritmo dividir-e-conquistar\n",
    "\n",
    "#### **2.a)** [3 valores] Proponha uma solução melhorada que utilize a estratégia dividir-e-conquistar para resolver o problema do número de inversões num array de forma mais eficiente.\n",
    "\n",
    "- **Nota:** É esperado que sejam descritos os passos básicos para a conceção do seu algoritmo. Deve também apresentar o pseudocódigo correspondente.\n",
    "- **Dica:** A solução passará por utilizar um dos algoritmos de ordenação abordados nas aulas."
   ]
  },
  {
   "cell_type": "markdown",
   "metadata": {},
   "source": [
    "**R.:** O nosso algoritmo baseia-se no merge sort e funciona da seguinte forma:\n",
    "- divide o array em metades até todas serem de tamanho 1\n",
    "- junta as metades ordenando-as e contando as inversões\n",
    "- sempre que um elemento da direita é maior que um elemento da esquerda, são contadas tantas inversões quantos elementos restam na metade esquerda\n",
    "\n",
    "```\n",
    "def versao_melhorada(arr):\n",
    "    _, inversions = count_inversions(arr)\n",
    "    return inversions\n",
    "\n",
    "def count_inversions(arr):\n",
    "    if len of arr <= 1:\n",
    "        return arr, 0\n",
    "    else:\n",
    "        mid = ⌊len of arr / 2⌋\n",
    "        left, inv_left = count_inversions(arr from start to mid)\n",
    "        right, inv_right = count_inversions(arr from mid to end)\n",
    "        merged, inv_merge = merge_and_count(left, right)\n",
    "        return merged, inv_left + inv_right + inv_merge\n",
    "\n",
    "def merge_and_count(left, right):\n",
    "    i = j = inv_count = 0\n",
    "\n",
    "    while i < len of left and j < len of right:\n",
    "        if left[i] <= right[j]:\n",
    "            append left[i] to merged\n",
    "            i += 1\n",
    "        else:\n",
    "            append right[j] to merged\n",
    "            inv_count += remaining items in left\n",
    "            j += 1\n",
    "\n",
    "    append remaining items in left to merged\n",
    "    append remaining items in right to merged\n",
    "    return merged, inv_count\n",
    "```"
   ]
  },
  {
   "cell_type": "markdown",
   "metadata": {},
   "source": [
    "#### **2.b)** [2 valores] Implemente em Python o algoritmo descrito na alínea anterior. O algoritmo deve receber como entrada uma coleção de inteiros, e devolver o número de inversões encontrados nesta coleção."
   ]
  },
  {
   "cell_type": "code",
   "execution_count": 16,
   "metadata": {},
   "outputs": [],
   "source": [
    "def versao_melhorada(arr):\n",
    "    _, inversions = count_inversions(arr)\n",
    "    return inversions\n",
    "\n",
    "def count_inversions(arr):\n",
    "    if len(arr) <= 1:\n",
    "        return arr, 0\n",
    "    else:\n",
    "        mid = len(arr) // 2\n",
    "        left, inv_left = count_inversions(arr[:mid])\n",
    "        right, inv_right = count_inversions(arr[mid:])\n",
    "        merged, inv_merge = merge_and_count(left, right)\n",
    "        return merged, inv_left + inv_right + inv_merge\n",
    "\n",
    "def merge_and_count(left, right):\n",
    "    i = j = inv_count = 0\n",
    "    merged = []\n",
    "    while i < len(left) and j < len(right):\n",
    "        if left[i] <= right[j]:\n",
    "            merged.append(left[i])\n",
    "            i += 1\n",
    "        else:\n",
    "            merged.append(right[j])\n",
    "            inv_count += len(left) - i\n",
    "            j += 1\n",
    "    merged += left[i:]\n",
    "    merged += right[j:]\n",
    "    return merged, inv_count"
   ]
  },
  {
   "cell_type": "markdown",
   "metadata": {},
   "source": [
    "#### **2.c)** [3 valores] Utilizando o método de indução, mostre que o seu algoritmo está correto.\n",
    "\n",
    "- **Nota:** Inicie por apresentar um pseudocódigo simplificado do seu algoritmo (se ainda não o fez na\n",
    "alínea **2.a)**). Para facilitar, pode também considerar que o tamanho **n** do array é uma potência de 2."
   ]
  },
  {
   "cell_type": "markdown",
   "metadata": {},
   "source": [
    "**R.:** **Hipótese de Indução**: O algoritmo está correto para todos os arrays de tamanho menor ou igual a n.\n",
    "\n",
    "**Caso Base**: Para um array de tamanho menor ou igual a 1, o algoritmo está correto pois não há inversões.\n",
    "\n",
    "**Passo Indutivo**: Provar que o algoritmo está correto para $k=n$, assumindo que a hipótese de indução é verdadeira para $k<n$.\n",
    "\n",
    "O array é dividido em duas metades e, pela hipótese de indução, sabemos que o algoritmo conta corretamente as inversões em cada metade. \n",
    "\n",
    "Agora, precisamos de considerar as inversões entre as duas metades, que são contadas pela função merge_and_count. Esta função percorre cada metade uma vez, comparando o elemento atual da esquerda com o elemento atual da direita. Se o elemento da esquerda for menor ou igual ao da direita, este é colocado no array final sem ser contada nenhuma inversão. Se, por outro lado, este for maior, sabemos que o elemento da direita vai ser menor que todos os restantes elementos da esquerda (visto que o array está ordenado devido ao caso base e à hipótese de indução). Assim, são contadas tantas inversões quantos elementos restam na metade esquerda.\n",
    "\n",
    "**Conclusão**: Todas as inversões são contadas corretamente e por isso o algoritmo devolve o número de inversões para qualquer array de tamanho menor ou igual a n."
   ]
  },
  {
   "cell_type": "markdown",
   "metadata": {},
   "source": [
    "#### **2.d)** [3 valores] Apresente uma análise assintótica do seu algoritmo, utilizando uma das técnicas abordadas em aula, ou seja, o teorema principal, ou o método da indução e substituição.\n",
    "\n",
    "- **Nota:** É esperado que apresente a fórmula recorrente do cálculo do trabalho do seu algoritmo bem como os passos necessários para estabelecer a ordem de complexidade do algoritmo (utilizando notação assintótica)."
   ]
  },
  {
   "cell_type": "markdown",
   "metadata": {},
   "source": [
    "**R.:**\n",
    "\n",
    "• O caso base (tamanho 1) e a divisão (cálculo do mid) têm custo contante: O(1)\n",
    "\n",
    "• São feitas 2 chamadas recorrentes para metade (aproximadamente, devido aos arredondamentos) dos elementos da entrada: n/2 (na verdade, faz ⌊n/2⌋)\n",
    "\n",
    "• O custo de merge_and_count é O(n) visto que os dois arrays de tamanho n/2 são percorridos na totalidade\n",
    "\n",
    "Logo a fórmula recorrente é $T(n)=2T(\\frac{n}{2})+O(n)$\n",
    "\n",
    "E, pelo teorema principal, a ordem de complexidade do algoritmo é $O(n\\log n)$, pois $a=b^d$ ($2=2^1$) que corresponde à fórmula $T(n)=O(n^d\\log n)$."
   ]
  },
  {
   "cell_type": "markdown",
   "metadata": {},
   "source": [
    "## **3)** Análise empírica\n",
    "\n",
    "#### **3.a)** [1 valores] Crie uma bateria de testes e cronometre o tempo de execução de cada um dos algoritmos desenvolvidos em **1)** e **2)**. Repita cada cronometragem, pelo menos, 35 vezes e registe o tempo médio de execução para cada algoritmo.\n",
    "\n",
    "- **Nota:** Exatamente a mesma coleção deve ser gerada antes das invocações dos diferentes algoritmos nos respetivos testes. Esta coleção deve conter números inteiros aleatórios sem repetição."
   ]
  },
  {
   "cell_type": "code",
   "execution_count": 17,
   "metadata": {},
   "outputs": [],
   "source": [
    "from time import time\n",
    "\n",
    "def tryItABunch(myFn, testArrays, numTrials=35):\n",
    "    nValues = []\n",
    "    tValues = []\n",
    "    for arr in testArrays:\n",
    "        # run myFn several times and average to get a decent idea.\n",
    "        runtime = 0\n",
    "        for _ in range(numTrials):\n",
    "            start = time()\n",
    "            myFn(arr)\n",
    "            end = time()\n",
    "            runtime += (end - start) * 1000  # measure in milliseconds\n",
    "        runtime = runtime / numTrials\n",
    "        nValues.append(len(arr))\n",
    "        tValues.append(runtime)\n",
    "    return nValues, tValues"
   ]
  },
  {
   "cell_type": "code",
   "execution_count": 18,
   "metadata": {},
   "outputs": [],
   "source": [
    "# Função de teste apenas para gerar o gráfico de O(n^2)\n",
    "def quadratica(arr):\n",
    "\tfor i in range(len(arr)):\n",
    "\t\tfor j in range(len(arr)):\n",
    "\t\t\tarr[i] > arr[j]"
   ]
  },
  {
   "cell_type": "code",
   "execution_count": 19,
   "metadata": {},
   "outputs": [],
   "source": [
    "from math import log\n",
    "\n",
    "# Função de teste apenas para gerar o gráfico de O(n log n)\n",
    "def n_log_n(arr):\n",
    "    for i in range(len(arr)):\n",
    "        for j in range(int(log(len(arr)))):\n",
    "            arr[i] > arr[j]"
   ]
  },
  {
   "cell_type": "code",
   "execution_count": 20,
   "metadata": {},
   "outputs": [],
   "source": [
    "from random import shuffle\n",
    "testArrays = []\n",
    "\n",
    "# Generate arrays of length n (from 50 to 1000 with step 50) containing numbers until n in a random order\n",
    "for n in range(50, 1000, 50):\n",
    "\tarr = list(range(n))\n",
    "\tshuffle(arr)\n",
    "\ttestArrays.append(arr)\n"
   ]
  },
  {
   "cell_type": "code",
   "execution_count": 21,
   "metadata": {},
   "outputs": [],
   "source": [
    "nValuesQuad, tValuesQuad = tryItABunch(quadratica, testArrays)\n",
    "nValuesLog, tValuesLog = tryItABunch(n_log_n, testArrays)"
   ]
  },
  {
   "cell_type": "code",
   "execution_count": 22,
   "metadata": {},
   "outputs": [],
   "source": [
    "nValuesBrute, tValuesBrute = tryItABunch(forca_bruta, testArrays)"
   ]
  },
  {
   "cell_type": "code",
   "execution_count": 23,
   "metadata": {},
   "outputs": [],
   "source": [
    "nValues, tValues = tryItABunch(versao_melhorada, testArrays)"
   ]
  },
  {
   "cell_type": "markdown",
   "metadata": {},
   "source": [
    "**R.:** Podemos concluir então que o algoritmo de força-bruta é muito mais lento que o algoritmo de dividir-e-conquistar, uma vez que o tempo médio de execução do primeiro é muito superior ao do segundo. Isto é confirmado pelos cálculos teóricos feitos anteriormente, isto é, que o algoritmo de força bruta é $O(n^2)$ e o algoritmo de dividir-e-conquistar é $O(n\\log n)$, sendo, por isso, o segundo significativamente mais eficiente."
   ]
  },
  {
   "cell_type": "markdown",
   "metadata": {},
   "source": [
    "#### **3.b)** [2 valores] Faça o plot dos tempos de execução dos dois algoritmos propostos em **1)** e em **2)**. Que conclusões tira?\n",
    "\n",
    "- **Nota:** É esperado que verifique se é possível estabelecer ligações entre as ordens de complexidade de cada algoritmo."
   ]
  },
  {
   "cell_type": "code",
   "execution_count": 24,
   "metadata": {},
   "outputs": [
    {
     "data": {
      "image/png": "[encoded data removed]",
      "text/plain": [
       "<Figure size 400x300 with 1 Axes>"
      ]
     },
     "metadata": {},
     "output_type": "display_data"
    }
   ],
   "source": [
    "import matplotlib.pyplot as plt\n",
    "\n",
    "# Initialize the plot using subplots so it can be reused in later cells\n",
    "fig, graph = plt.subplots(figsize=(4, 3))\n",
    "graph.plot(nValuesQuad, tValuesQuad, color=\"green\", label=\"O(n^2)\")\n",
    "graph.plot(nValuesBrute, tValuesBrute, color=\"blue\", label=\"Força bruta\")\n",
    "graph.plot(nValues, tValues, color=\"red\", label=\"Versão melhorada\")\n",
    "graph.plot(nValuesLog, tValuesLog, color=\"yellow\", label=\"O(n log n)\")\n",
    "graph.set_xlabel(\"n\")\n",
    "graph.set_ylabel(\"Time(ms)\")\n",
    "graph.set_title(\"Comparação de tempo de execução\")\n",
    "graph.legend()\n",
    "\n",
    "# This simply avoids printing the image twice\n",
    "_ = fig"
   ]
  },
  {
   "cell_type": "markdown",
   "metadata": {},
   "source": [
    "**R.:** O gráfico dos tempos de execução permite-nos concluir que o algoritmo de força bruta tem um desempenho bastante próximo a $O(n^2)$, porém ligeiramente inferior, uma vez que sua ordem de complexidade é dada pela expressão $2\\times\\frac{(n-1)n}{2}$ calculada acima, devido ao facto de que cada iteração vai desde o índice atual até ao fim do array em vez de percorrer o array todo novamente.\n",
    "\n",
    "Já a versão melhorada do algoritmo apresenta um gráfico muito semelhante a $O(n\\log n)$, apesar de que ligeiramente superior, porém pouco relevante. Apesar disso, esta pequena diferença foi consistente em todos os testes realizados e pode-se dever ao facto de que o algoritmo conta as inversões e guarda-as em memória para passar o resultado para a execução seguinte do ciclo recursivo. Esta é apenas uma hipótese, porém pareceu-nos ser a mais plausível."
   ]
  },
  {
   "cell_type": "markdown",
   "metadata": {},
   "source": [
    "## **4)** Extra\n",
    "\n",
    "#### **4.a)** [1 valor] Proponha possíveis melhorias ao algoritmo apresentado em **2)** e refaça os testes empíricos realizados em **3)** para avaliar se as melhorias são visíveis na prática.\n",
    "\n",
    "- **Nota:** É esperado que fundamente o porquê de estar a propor cada melhoria. É também esperada uma breve discussão sobre a ordem de complexidade do algoritmo melhorado.\n"
   ]
  },
  {
   "cell_type": "markdown",
   "metadata": {},
   "source": [
    "**R.:** Uma vez que o algoritmo apresentado em **2)** utiliza um array auxiliar, podemos tentar uma melhoria do mesmo, tornando-o in-place. Para isso, modificamos o array original de modo a usar menos memória."
   ]
  },
  {
   "cell_type": "code",
   "execution_count": 25,
   "metadata": {},
   "outputs": [],
   "source": [
    "def versao_melhorada_in_place(arr):\n",
    "    _, inversions = count_inversions(arr)\n",
    "    return inversions\n",
    "\n",
    "def count_inversions(arr):\n",
    "    if len(arr) <= 1:\n",
    "        return arr, 0\n",
    "    else:\n",
    "        mid = len(arr) // 2\n",
    "        left, inv_left = count_inversions(arr[:mid])\n",
    "        right, inv_right = count_inversions(arr[mid:])\n",
    "        inv_merge = merge_and_count(arr, left, right)\n",
    "        # arr is returned so we can store the left and right arrays\n",
    "        return arr, inv_left + inv_right + inv_merge\n",
    "\n",
    "def merge_and_count(arr, left, right):\n",
    "    i = j = inv_count = 0\n",
    "    while i < len(left) and j < len(right):\n",
    "        if left[i] <= right[j]:\n",
    "            arr[i + j] = left[i]\n",
    "            i += 1\n",
    "        else:\n",
    "            arr[i + j] = right[j]\n",
    "            inv_count += len(left) - i\n",
    "            j += 1\n",
    "            \n",
    "\t# Append the remaining elements of left and right, if there are any\n",
    "    while i < len(left):\n",
    "        arr[i + j] = left[i]\n",
    "        i += 1\n",
    "    while j < len(right):\n",
    "        arr[i + j] = right[j]\n",
    "        j += 1\n",
    "    return inv_count"
   ]
  },
  {
   "cell_type": "code",
   "execution_count": 26,
   "metadata": {},
   "outputs": [],
   "source": [
    "nValuesInPlace, tValuesInPlace = tryItABunch(versao_melhorada_in_place, testArrays)"
   ]
  },
  {
   "cell_type": "code",
   "execution_count": 27,
   "metadata": {},
   "outputs": [
    {
     "data": {
      "image/png": "[encoded data removed]",
      "text/plain": [
       "<Figure size 400x300 with 1 Axes>"
      ]
     },
     "execution_count": 27,
     "metadata": {},
     "output_type": "execute_result"
    }
   ],
   "source": [
    "graph.plot(nValuesInPlace, tValuesInPlace, color=\"purple\", label=\"Versão melhorada in-place\")\n",
    "graph.legend()\n",
    "fig"
   ]
  },
  {
   "cell_type": "markdown",
   "metadata": {},
   "source": [
    "**R.:** Como podemos concluir pelo gráfico, o tempo de execução é o mesmo ($O(n \\log n)$), uma vez que esta melhoria apenas seria visível na memória utilizada pelo algoritmo.\n",
    "Ainda assim estão a ser usados 2 arrays auxiliares (left e right), porém não seria possível substituí-los mantendo a ordem de complexidade do algoritmo e o seu funcionamento."
   ]
  },
  {
   "cell_type": "markdown",
   "metadata": {},
   "source": [
    "## **5)** Questões Éticas\n",
    "Tente resolver os problemas apenas com os integrantes do seu grupo antes de colaborar. Escreva as suas respostas por suas próprias palavras. Nunca deve partilhar o ficheiro fonte com as suas soluções com integrantes de outros grupos.\n",
    "\n",
    "#### **5.a)** Se colaborou com alguém fora do seu grupo, indique aqui os respetivos nomes."
   ]
  },
  {
   "cell_type": "markdown",
   "metadata": {},
   "source": [
    "**R.:** Francisco Brito, auxílio no desenho dos gráficos nomeadamente das funções de comparação $O(n^2)$ e $O(n\\log n)$"
   ]
  },
  {
   "cell_type": "markdown",
   "metadata": {},
   "source": [
    "#### **5.b)** Deve citar todas as fontes que utilizou fora do material da UC.\n",
    "\n",
    "Qualquer indício de plágio implica, automaticamente, na reprovação na avaliação periódica.\n",
    "\n",
    "Consoante a gravidade dos indícios de plágio, estes serão apropriadamente investigados e, caso se confirme que um estudante cometeu plágio, este estará automaticamente reprovado à UC."
   ]
  },
  {
   "cell_type": "markdown",
   "metadata": {},
   "source": [
    "**R.:** Apenas ferramentas de AI como Github Copilot e Microsoft Copilot para auxílio na utilização da biblioteca mathplotlib, bem como em expressões matemáticas em LaTeX."
   ]
  }
 ],
 "metadata": {
  "kernelspec": {
   "display_name": "Python 3",
   "language": "python",
   "name": "python3"
  },
  "language_info": {
   "codemirror_mode": {
    "name": "ipython",
    "version": 3
   },
   "file_extension": ".py",
   "mimetype": "text/x-python",
   "name": "python",
   "nbconvert_exporter": "python",
   "pygments_lexer": "ipython3",
   "version": "3.11.8"
  }
 },
 "nbformat": 4,
 "nbformat_minor": 2
}
